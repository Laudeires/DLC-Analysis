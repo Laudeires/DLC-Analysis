{
  "nbformat": 4,
  "nbformat_minor": 0,
  "metadata": {
    "colab": {
      "provenance": []
    },
    "kernelspec": {
      "name": "python3",
      "display_name": "Python 3"
    },
    "language_info": {
      "name": "python"
    }
  },
  "cells": [
    {
      "cell_type": "markdown",
      "source": [
        "This script allows you to visually mark an area of interest in a video by setting custom x and y boundaries. It can be used both for algorithmic analysis and to optimize processing with DeepLabCut. Once the region is defined, only the coordinates within the rectangle (x1, y1) to (x2, y2) will be considered during analysis as specified in the config.\n",
        "---\n",
        "---\n",
        "\n",
        "\n",
        "Esse código faz marcações visuais em uma determinada área no vídeo para que você delimite os limites de x e y. Ele pode ser usado, tanto na análise por algoritmo, quanto (no meu caso) para otimizar a análise do DeepLabCut, pois, a partir da delimitação, as coordenadas análisadas no config serão as que foram definidas em (x1, y1), (x2, y2)."
      ],
      "metadata": {
        "id": "4BoTlm8hVk9-"
      }
    },
    {
      "cell_type": "code",
      "execution_count": null,
      "metadata": {
        "id": "n6iwWCMmJFrs"
      },
      "outputs": [],
      "source": [
        "import cv2\n",
        "from google.colab.patches import cv2_imshow\n",
        "\n",
        "# Carregar um frame do vídeo / Load a frame from the video\n",
        "video_path = 'Link to your video here'\n",
        "cap = cv2.VideoCapture(video_path)\n",
        "\n",
        "ret, frame = cap.read()  # Ler o primeiro frame / Read the first frame\n",
        "cap.release()\n",
        "\n",
        "if ret:\n",
        "    cv2_imshow(frame)\n",
        "    height, width, _ = frame.shape\n",
        "    print(f\"Resolução do vídeo: {width}x{height}\")\n",
        "\n",
        "else:\n",
        "    print(\"Erro ao carregar o vídeo. Verifique o caminho do arquivo.\")\n"
      ]
    },
    {
      "cell_type": "code",
      "source": [
        "# Definir os valores de corte / Set the cutoff values\n",
        "x1, x2 = 120, 1200\n",
        "y1, y2 = 250, 600\n",
        "\n",
        "video_path = 'Link to your video here'\n",
        "cap = cv2.VideoCapture(video_path)\n",
        "ret, frame = cap.read()\n",
        "cap.release()\n",
        "\n",
        "if ret:\n",
        "    # Desenhar a area do crop na imagem / Draw the crop area on the image\n",
        "    cv2.rectangle(frame, (x1, y1), (x2, y2), (0, 255, 0), 2)\n",
        "    cv2_imshow(frame)\n",
        "\n",
        "else:\n",
        "    print(\"Error loading video. Check the file path.\")\n"
      ],
      "metadata": {
        "id": "l0JJiEirJ-_g"
      },
      "execution_count": null,
      "outputs": []
    }
  ]
}